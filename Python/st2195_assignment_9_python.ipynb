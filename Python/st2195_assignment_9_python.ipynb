{
 "cells": [
  {
   "cell_type": "code",
   "execution_count": 1,
   "id": "ff78b574",
   "metadata": {},
   "outputs": [],
   "source": [
    "import pandas as pd\n",
    "import matplotlib.pyplot as plt\n",
    "from sklearn.datasets import fetch_openml  #using openml to import data\n",
    "from sklearn.metrics import plot_roc_curve\n",
    "from sklearn.model_selection import train_test_split, GridSearchCV      \n",
    "from sklearn.linear_model import LogisticRegression\n",
    "\n",
    "from sklearn.pipeline import Pipeline\n",
    "from sklearn.impute import SimpleImputer\n",
    "from sklearn.preprocessing import StandardScaler, OneHotEncoder\n",
    "from sklearn.compose import ColumnTransformer #transform different types"
   ]
  },
  {
   "cell_type": "code",
   "execution_count": 2,
   "id": "388ff47f",
   "metadata": {},
   "outputs": [
    {
     "data": {
      "text/html": [
       "<div>\n",
       "<style scoped>\n",
       "    .dataframe tbody tr th:only-of-type {\n",
       "        vertical-align: middle;\n",
       "    }\n",
       "\n",
       "    .dataframe tbody tr th {\n",
       "        vertical-align: top;\n",
       "    }\n",
       "\n",
       "    .dataframe thead th {\n",
       "        text-align: right;\n",
       "    }\n",
       "</style>\n",
       "<table border=\"1\" class=\"dataframe\">\n",
       "  <thead>\n",
       "    <tr style=\"text-align: right;\">\n",
       "      <th></th>\n",
       "      <th>pclass</th>\n",
       "      <th>name</th>\n",
       "      <th>sex</th>\n",
       "      <th>age</th>\n",
       "      <th>sibsp</th>\n",
       "      <th>parch</th>\n",
       "      <th>ticket</th>\n",
       "      <th>fare</th>\n",
       "      <th>cabin</th>\n",
       "      <th>embarked</th>\n",
       "      <th>boat</th>\n",
       "      <th>body</th>\n",
       "      <th>home.dest</th>\n",
       "      <th>survived</th>\n",
       "    </tr>\n",
       "  </thead>\n",
       "  <tbody>\n",
       "    <tr>\n",
       "      <th>0</th>\n",
       "      <td>1.0</td>\n",
       "      <td>Allen, Miss. Elisabeth Walton</td>\n",
       "      <td>female</td>\n",
       "      <td>29.0000</td>\n",
       "      <td>0.0</td>\n",
       "      <td>0.0</td>\n",
       "      <td>24160</td>\n",
       "      <td>211.3375</td>\n",
       "      <td>B5</td>\n",
       "      <td>S</td>\n",
       "      <td>2</td>\n",
       "      <td>NaN</td>\n",
       "      <td>St Louis, MO</td>\n",
       "      <td>1</td>\n",
       "    </tr>\n",
       "    <tr>\n",
       "      <th>1</th>\n",
       "      <td>1.0</td>\n",
       "      <td>Allison, Master. Hudson Trevor</td>\n",
       "      <td>male</td>\n",
       "      <td>0.9167</td>\n",
       "      <td>1.0</td>\n",
       "      <td>2.0</td>\n",
       "      <td>113781</td>\n",
       "      <td>151.5500</td>\n",
       "      <td>C22 C26</td>\n",
       "      <td>S</td>\n",
       "      <td>11</td>\n",
       "      <td>NaN</td>\n",
       "      <td>Montreal, PQ / Chesterville, ON</td>\n",
       "      <td>1</td>\n",
       "    </tr>\n",
       "    <tr>\n",
       "      <th>2</th>\n",
       "      <td>1.0</td>\n",
       "      <td>Allison, Miss. Helen Loraine</td>\n",
       "      <td>female</td>\n",
       "      <td>2.0000</td>\n",
       "      <td>1.0</td>\n",
       "      <td>2.0</td>\n",
       "      <td>113781</td>\n",
       "      <td>151.5500</td>\n",
       "      <td>C22 C26</td>\n",
       "      <td>S</td>\n",
       "      <td>None</td>\n",
       "      <td>NaN</td>\n",
       "      <td>Montreal, PQ / Chesterville, ON</td>\n",
       "      <td>0</td>\n",
       "    </tr>\n",
       "    <tr>\n",
       "      <th>3</th>\n",
       "      <td>1.0</td>\n",
       "      <td>Allison, Mr. Hudson Joshua Creighton</td>\n",
       "      <td>male</td>\n",
       "      <td>30.0000</td>\n",
       "      <td>1.0</td>\n",
       "      <td>2.0</td>\n",
       "      <td>113781</td>\n",
       "      <td>151.5500</td>\n",
       "      <td>C22 C26</td>\n",
       "      <td>S</td>\n",
       "      <td>None</td>\n",
       "      <td>135.0</td>\n",
       "      <td>Montreal, PQ / Chesterville, ON</td>\n",
       "      <td>0</td>\n",
       "    </tr>\n",
       "    <tr>\n",
       "      <th>4</th>\n",
       "      <td>1.0</td>\n",
       "      <td>Allison, Mrs. Hudson J C (Bessie Waldo Daniels)</td>\n",
       "      <td>female</td>\n",
       "      <td>25.0000</td>\n",
       "      <td>1.0</td>\n",
       "      <td>2.0</td>\n",
       "      <td>113781</td>\n",
       "      <td>151.5500</td>\n",
       "      <td>C22 C26</td>\n",
       "      <td>S</td>\n",
       "      <td>None</td>\n",
       "      <td>NaN</td>\n",
       "      <td>Montreal, PQ / Chesterville, ON</td>\n",
       "      <td>0</td>\n",
       "    </tr>\n",
       "  </tbody>\n",
       "</table>\n",
       "</div>"
      ],
      "text/plain": [
       "   pclass                                             name     sex      age  \\\n",
       "0     1.0                    Allen, Miss. Elisabeth Walton  female  29.0000   \n",
       "1     1.0                   Allison, Master. Hudson Trevor    male   0.9167   \n",
       "2     1.0                     Allison, Miss. Helen Loraine  female   2.0000   \n",
       "3     1.0             Allison, Mr. Hudson Joshua Creighton    male  30.0000   \n",
       "4     1.0  Allison, Mrs. Hudson J C (Bessie Waldo Daniels)  female  25.0000   \n",
       "\n",
       "   sibsp  parch  ticket      fare    cabin embarked  boat   body  \\\n",
       "0    0.0    0.0   24160  211.3375       B5        S     2    NaN   \n",
       "1    1.0    2.0  113781  151.5500  C22 C26        S    11    NaN   \n",
       "2    1.0    2.0  113781  151.5500  C22 C26        S  None    NaN   \n",
       "3    1.0    2.0  113781  151.5500  C22 C26        S  None  135.0   \n",
       "4    1.0    2.0  113781  151.5500  C22 C26        S  None    NaN   \n",
       "\n",
       "                         home.dest survived  \n",
       "0                     St Louis, MO        1  \n",
       "1  Montreal, PQ / Chesterville, ON        1  \n",
       "2  Montreal, PQ / Chesterville, ON        0  \n",
       "3  Montreal, PQ / Chesterville, ON        0  \n",
       "4  Montreal, PQ / Chesterville, ON        0  "
      ]
     },
     "execution_count": 2,
     "metadata": {},
     "output_type": "execute_result"
    }
   ],
   "source": [
    "#Import dataset\n",
    "X_initial, y = fetch_openml(\"titanic\", version=1, as_frame=True, return_X_y=True)\n",
    "combine_dataset = pd.concat([X_initial, y], axis=1)\n",
    "combine_dataset.head()"
   ]
  },
  {
   "cell_type": "markdown",
   "id": "beaf6666",
   "metadata": {},
   "source": [
    "## Passengers gender and ticket class based on survival"
   ]
  },
  {
   "cell_type": "code",
   "execution_count": 3,
   "id": "2921f971",
   "metadata": {},
   "outputs": [],
   "source": [
    "# features from the dataset\n",
    "features = ['sex','pclass']\n",
    "X = X_initial[features].copy()"
   ]
  },
  {
   "cell_type": "code",
   "execution_count": 4,
   "id": "ea226760",
   "metadata": {},
   "outputs": [
    {
     "data": {
      "text/plain": [
       "0       1\n",
       "1       0\n",
       "2       1\n",
       "3       0\n",
       "4       1\n",
       "       ..\n",
       "1304    1\n",
       "1305    1\n",
       "1306    0\n",
       "1307    0\n",
       "1308    0\n",
       "Name: sex, Length: 1309, dtype: int32"
      ]
     },
     "execution_count": 4,
     "metadata": {},
     "output_type": "execute_result"
    }
   ],
   "source": [
    "X['sex'] = X['sex'].map({'female': 1, 'male': 0}).astype('int')\n",
    "X['sex']"
   ]
  },
  {
   "cell_type": "code",
   "execution_count": 5,
   "id": "9865e785",
   "metadata": {},
   "outputs": [],
   "source": [
    "numerical_features = ['sex']\n",
    "\n",
    "# Applying SimpleImputer and StandardScaler into a pipelin\n",
    "numerical_transformer = Pipeline(steps=[\n",
    "    ('imputer', SimpleImputer()),\n",
    "    ('scaler', StandardScaler())])\n",
    "\n",
    "categorical_features = ['pclass']\n",
    "\n",
    "# Applying SimpleImputer and then OneHotEncoder into another pipeline\n",
    "categorical_transformer = Pipeline(steps=[\n",
    "    ('imputer', SimpleImputer()),\n",
    "    ('onehot', OneHotEncoder(handle_unknown='ignore'))])"
   ]
  },
  {
   "cell_type": "code",
   "execution_count": 6,
   "id": "da597501",
   "metadata": {},
   "outputs": [],
   "source": [
    "data_transformer = ColumnTransformer(\n",
    "    transformers=[\n",
    "        ('numerical', numerical_transformer, numerical_features),\n",
    "        ('categorical', categorical_transformer, categorical_features)]) "
   ]
  },
  {
   "cell_type": "code",
   "execution_count": 7,
   "id": "f552f916",
   "metadata": {},
   "outputs": [],
   "source": [
    "#pipelines with logistic regression:\n",
    "pipe_lr = Pipeline(steps=[('data_transformer', data_transformer),\n",
    "                      ('pipe_lr', LogisticRegression(max_iter=10000))])"
   ]
  },
  {
   "cell_type": "code",
   "execution_count": 8,
   "id": "165c9077",
   "metadata": {},
   "outputs": [],
   "source": [
    "X_train, X_test, y_train, y_test = train_test_split(X, y, test_size=0.5,random_state=1)"
   ]
  },
  {
   "cell_type": "code",
   "execution_count": 9,
   "id": "cf90331f",
   "metadata": {},
   "outputs": [
    {
     "name": "stderr",
     "output_type": "stream",
     "text": [
      "C:\\Users\\e2u\\anaconda3\\envs\\tenmsorflow\\lib\\site-packages\\sklearn\\utils\\deprecation.py:87: FutureWarning: Function plot_roc_curve is deprecated; Function :func:`plot_roc_curve` is deprecated in 1.0 and will be removed in 1.2. Use one of the class methods: :meth:`sklearn.metric.RocCurveDisplay.from_predictions` or :meth:`sklearn.metric.RocCurveDisplay.from_estimator`.\n",
      "  warnings.warn(msg, category=FutureWarning)\n"
     ]
    },
    {
     "data": {
      "text/plain": [
       "<sklearn.metrics._plot.roc_curve.RocCurveDisplay at 0x1e8af7bf988>"
      ]
     },
     "execution_count": 9,
     "metadata": {},
     "output_type": "execute_result"
    },
    {
     "data": {
      "image/png": "[encoded data removed]",
      "text/plain": [
       "<Figure size 432x288 with 1 Axes>"
      ]
     },
     "metadata": {
      "needs_background": "light"
     },
     "output_type": "display_data"
    }
   ],
   "source": [
    "param_grid = {\n",
    "    'data_transformer__numerical__imputer__strategy': ['mean', 'median'],\n",
    "    'data_transformer__categorical__imputer__strategy': ['constant','most_frequent']\n",
    "}\n",
    "grid_lr = GridSearchCV(pipe_lr, param_grid=param_grid)\n",
    "grid_lr.fit(X_train, y_train);\n",
    "ax = plt.gca()\n",
    "plot_roc_curve(grid_lr, X_test, y_test, ax=ax, name='Gender, ticket class and survival rate(LR)')"
   ]
  },
  {
   "cell_type": "markdown",
   "id": "f4169763",
   "metadata": {},
   "source": [
    "## Passengers age per ticket class based on survival"
   ]
  },
  {
   "cell_type": "code",
   "execution_count": 10,
   "id": "19dbdadc",
   "metadata": {},
   "outputs": [],
   "source": [
    "# features from the dataset\n",
    "features = ['age','pclass']\n",
    "X = X_initial[features].copy()\n",
    "\n",
    "#numerical\n",
    "numerical_features = ['age']\n",
    "\n",
    "# Applying SimpleImputer and StandardScaler into a pipelin\n",
    "numerical_transformer = Pipeline(steps=[\n",
    "    ('imputer', SimpleImputer()),\n",
    "    ('scaler', StandardScaler())])\n",
    "\n",
    "#categorical\n",
    "categorical_features = ['pclass']\n",
    "\n",
    "# Applying SimpleImputer and then OneHotEncoder into another pipeline\n",
    "categorical_transformer = Pipeline(steps=[\n",
    "    ('imputer', SimpleImputer()),\n",
    "    ('onehot', OneHotEncoder(handle_unknown='ignore'))])"
   ]
  },
  {
   "cell_type": "code",
   "execution_count": 11,
   "id": "b5563141",
   "metadata": {},
   "outputs": [],
   "source": [
    "data_transformer = ColumnTransformer(\n",
    "    transformers=[\n",
    "        ('numerical', numerical_transformer, numerical_features),\n",
    "        ('categorical', categorical_transformer, categorical_features)]) \n",
    "\n",
    "#pipelines with logistic regression:\n",
    "pipe_lr = Pipeline(steps=[('data_transformer', data_transformer),\n",
    "                      ('pipe_lr', LogisticRegression(max_iter=10000))])"
   ]
  },
  {
   "cell_type": "code",
   "execution_count": 12,
   "id": "3d01432b",
   "metadata": {},
   "outputs": [],
   "source": [
    "X_train, X_test, y_train, y_test = train_test_split(X, y, test_size=0.5,random_state=1)"
   ]
  },
  {
   "cell_type": "code",
   "execution_count": 13,
   "id": "7e2481b7",
   "metadata": {
    "scrolled": false
   },
   "outputs": [
    {
     "name": "stderr",
     "output_type": "stream",
     "text": [
      "C:\\Users\\e2u\\anaconda3\\envs\\tenmsorflow\\lib\\site-packages\\sklearn\\utils\\deprecation.py:87: FutureWarning: Function plot_roc_curve is deprecated; Function :func:`plot_roc_curve` is deprecated in 1.0 and will be removed in 1.2. Use one of the class methods: :meth:`sklearn.metric.RocCurveDisplay.from_predictions` or :meth:`sklearn.metric.RocCurveDisplay.from_estimator`.\n",
      "  warnings.warn(msg, category=FutureWarning)\n"
     ]
    },
    {
     "data": {
      "text/plain": [
       "<sklearn.metrics._plot.roc_curve.RocCurveDisplay at 0x1e8b19b4d88>"
      ]
     },
     "execution_count": 13,
     "metadata": {},
     "output_type": "execute_result"
    },
    {
     "data": {
      "image/png": "[encoded data removed]",
      "text/plain": [
       "<Figure size 432x288 with 1 Axes>"
      ]
     },
     "metadata": {
      "needs_background": "light"
     },
     "output_type": "display_data"
    }
   ],
   "source": [
    "param_grid = {\n",
    "    'data_transformer__numerical__imputer__strategy': ['mean', 'median'],\n",
    "    'data_transformer__categorical__imputer__strategy': ['constant','most_frequent']\n",
    "}\n",
    "grid_lr = GridSearchCV(pipe_lr, param_grid=param_grid)\n",
    "grid_lr.fit(X_train, y_train);\n",
    "ax = plt.gca()\n",
    "plot_roc_curve(grid_lr, X_test, y_test, ax=ax, name='Age, ticket class and survival rate(LR)')"
   ]
  },
  {
   "cell_type": "markdown",
   "id": "23f590a9",
   "metadata": {},
   "source": [
    "## Passenger age(bins), ticket class and survial"
   ]
  },
  {
   "cell_type": "code",
   "execution_count": 14,
   "id": "4c8b13c1",
   "metadata": {},
   "outputs": [],
   "source": [
    "X_initial[\"age_cat1\"] = pd.cut(X_initial[\"age\"], bins=[0,10,20,30,40,50,60,70,80])"
   ]
  },
  {
   "cell_type": "code",
   "execution_count": 15,
   "id": "1734814d",
   "metadata": {},
   "outputs": [
    {
     "data": {
      "text/plain": [
       "0       1046\n",
       "1       1046\n",
       "2       1046\n",
       "3       1046\n",
       "4       1046\n",
       "        ... \n",
       "1304    1046\n",
       "1305    1046\n",
       "1306    1046\n",
       "1307    1046\n",
       "1308    1046\n",
       "Name: age_cat, Length: 1309, dtype: int64"
      ]
     },
     "execution_count": 15,
     "metadata": {},
     "output_type": "execute_result"
    }
   ],
   "source": [
    "X_initial[\"age_cat\"] = X_initial[\"age_cat1\"].count()\n",
    "X_initial[\"age_cat\"]"
   ]
  },
  {
   "cell_type": "code",
   "execution_count": 16,
   "id": "383c6636",
   "metadata": {},
   "outputs": [],
   "source": [
    "# features from the dataset\n",
    "features = ['age_cat','pclass']\n",
    "X = X_initial[features].copy()\n",
    "\n",
    "#numerical\n",
    "numerical_features = ['age_cat']\n",
    "\n",
    "# Applying SimpleImputer and StandardScaler into a pipelin\n",
    "numerical_transformer = Pipeline(steps=[\n",
    "    ('imputer', SimpleImputer()),\n",
    "    ('scaler', StandardScaler())])\n",
    "\n",
    "#categorical\n",
    "categorical_features = ['pclass']\n",
    "\n",
    "# Applying SimpleImputer and then OneHotEncoder into another pipeline\n",
    "categorical_transformer = Pipeline(steps=[\n",
    "    ('imputer', SimpleImputer()),\n",
    "    ('onehot', OneHotEncoder(handle_unknown='ignore'))])"
   ]
  },
  {
   "cell_type": "code",
   "execution_count": 17,
   "id": "654e0512",
   "metadata": {},
   "outputs": [],
   "source": [
    "data_transformer = ColumnTransformer(\n",
    "    transformers=[\n",
    "        ('numerical', numerical_transformer, numerical_features),\n",
    "        ('categorical', categorical_transformer, categorical_features)]) \n",
    "\n",
    "#pipelines with logistic regression:\n",
    "pipe_lr = Pipeline(steps=[('data_transformer', data_transformer),\n",
    "                      ('pipe_lr', LogisticRegression(max_iter=10000))])"
   ]
  },
  {
   "cell_type": "code",
   "execution_count": 18,
   "id": "bb50e9f8",
   "metadata": {},
   "outputs": [],
   "source": [
    "X_train, X_test, y_train, y_test = train_test_split(X, y, test_size=0.5,random_state=1)"
   ]
  },
  {
   "cell_type": "code",
   "execution_count": 19,
   "id": "ec345f93",
   "metadata": {},
   "outputs": [
    {
     "name": "stderr",
     "output_type": "stream",
     "text": [
      "C:\\Users\\e2u\\anaconda3\\envs\\tenmsorflow\\lib\\site-packages\\sklearn\\utils\\deprecation.py:87: FutureWarning: Function plot_roc_curve is deprecated; Function :func:`plot_roc_curve` is deprecated in 1.0 and will be removed in 1.2. Use one of the class methods: :meth:`sklearn.metric.RocCurveDisplay.from_predictions` or :meth:`sklearn.metric.RocCurveDisplay.from_estimator`.\n",
      "  warnings.warn(msg, category=FutureWarning)\n"
     ]
    },
    {
     "data": {
      "text/plain": [
       "<sklearn.metrics._plot.roc_curve.RocCurveDisplay at 0x1e8b1a65748>"
      ]
     },
     "execution_count": 19,
     "metadata": {},
     "output_type": "execute_result"
    },
    {
     "data": {
      "image/png": "[encoded data removed]",
      "text/plain": [
       "<Figure size 432x288 with 1 Axes>"
      ]
     },
     "metadata": {
      "needs_background": "light"
     },
     "output_type": "display_data"
    }
   ],
   "source": [
    "param_grid = {\n",
    "    'data_transformer__numerical__imputer__strategy': ['mean', 'median'],\n",
    "    'data_transformer__categorical__imputer__strategy': ['constant','most_frequent']\n",
    "}\n",
    "grid_lr = GridSearchCV(pipe_lr, param_grid=param_grid)\n",
    "grid_lr.fit(X_train, y_train);\n",
    "ax = plt.gca()\n",
    "plot_roc_curve(grid_lr, X_test, y_test, ax=ax, name='Age(bins), ticket class and survival rate(LR)')"
   ]
  },
  {
   "cell_type": "markdown",
   "id": "d3a8a438",
   "metadata": {},
   "source": [
    "# Family size and survival"
   ]
  },
  {
   "cell_type": "code",
   "execution_count": 20,
   "id": "a7387ce6",
   "metadata": {},
   "outputs": [
    {
     "data": {
      "text/html": [
       "<div>\n",
       "<style scoped>\n",
       "    .dataframe tbody tr th:only-of-type {\n",
       "        vertical-align: middle;\n",
       "    }\n",
       "\n",
       "    .dataframe tbody tr th {\n",
       "        vertical-align: top;\n",
       "    }\n",
       "\n",
       "    .dataframe thead th {\n",
       "        text-align: right;\n",
       "    }\n",
       "</style>\n",
       "<table border=\"1\" class=\"dataframe\">\n",
       "  <thead>\n",
       "    <tr style=\"text-align: right;\">\n",
       "      <th></th>\n",
       "      <th>pclass</th>\n",
       "      <th>name</th>\n",
       "      <th>sex</th>\n",
       "      <th>age</th>\n",
       "      <th>sibsp</th>\n",
       "      <th>parch</th>\n",
       "      <th>ticket</th>\n",
       "      <th>fare</th>\n",
       "      <th>cabin</th>\n",
       "      <th>embarked</th>\n",
       "      <th>boat</th>\n",
       "      <th>body</th>\n",
       "      <th>home.dest</th>\n",
       "      <th>survived</th>\n",
       "    </tr>\n",
       "  </thead>\n",
       "  <tbody>\n",
       "    <tr>\n",
       "      <th>0</th>\n",
       "      <td>1.0</td>\n",
       "      <td>Allen, Miss. Elisabeth Walton</td>\n",
       "      <td>female</td>\n",
       "      <td>29.0000</td>\n",
       "      <td>0.0</td>\n",
       "      <td>0.0</td>\n",
       "      <td>24160</td>\n",
       "      <td>211.3375</td>\n",
       "      <td>B5</td>\n",
       "      <td>S</td>\n",
       "      <td>2</td>\n",
       "      <td>NaN</td>\n",
       "      <td>St Louis, MO</td>\n",
       "      <td>1</td>\n",
       "    </tr>\n",
       "    <tr>\n",
       "      <th>1</th>\n",
       "      <td>1.0</td>\n",
       "      <td>Allison, Master. Hudson Trevor</td>\n",
       "      <td>male</td>\n",
       "      <td>0.9167</td>\n",
       "      <td>1.0</td>\n",
       "      <td>2.0</td>\n",
       "      <td>113781</td>\n",
       "      <td>151.5500</td>\n",
       "      <td>C22 C26</td>\n",
       "      <td>S</td>\n",
       "      <td>11</td>\n",
       "      <td>NaN</td>\n",
       "      <td>Montreal, PQ / Chesterville, ON</td>\n",
       "      <td>1</td>\n",
       "    </tr>\n",
       "    <tr>\n",
       "      <th>2</th>\n",
       "      <td>1.0</td>\n",
       "      <td>Allison, Miss. Helen Loraine</td>\n",
       "      <td>female</td>\n",
       "      <td>2.0000</td>\n",
       "      <td>1.0</td>\n",
       "      <td>2.0</td>\n",
       "      <td>113781</td>\n",
       "      <td>151.5500</td>\n",
       "      <td>C22 C26</td>\n",
       "      <td>S</td>\n",
       "      <td>None</td>\n",
       "      <td>NaN</td>\n",
       "      <td>Montreal, PQ / Chesterville, ON</td>\n",
       "      <td>0</td>\n",
       "    </tr>\n",
       "    <tr>\n",
       "      <th>3</th>\n",
       "      <td>1.0</td>\n",
       "      <td>Allison, Mr. Hudson Joshua Creighton</td>\n",
       "      <td>male</td>\n",
       "      <td>30.0000</td>\n",
       "      <td>1.0</td>\n",
       "      <td>2.0</td>\n",
       "      <td>113781</td>\n",
       "      <td>151.5500</td>\n",
       "      <td>C22 C26</td>\n",
       "      <td>S</td>\n",
       "      <td>None</td>\n",
       "      <td>135.0</td>\n",
       "      <td>Montreal, PQ / Chesterville, ON</td>\n",
       "      <td>0</td>\n",
       "    </tr>\n",
       "    <tr>\n",
       "      <th>4</th>\n",
       "      <td>1.0</td>\n",
       "      <td>Allison, Mrs. Hudson J C (Bessie Waldo Daniels)</td>\n",
       "      <td>female</td>\n",
       "      <td>25.0000</td>\n",
       "      <td>1.0</td>\n",
       "      <td>2.0</td>\n",
       "      <td>113781</td>\n",
       "      <td>151.5500</td>\n",
       "      <td>C22 C26</td>\n",
       "      <td>S</td>\n",
       "      <td>None</td>\n",
       "      <td>NaN</td>\n",
       "      <td>Montreal, PQ / Chesterville, ON</td>\n",
       "      <td>0</td>\n",
       "    </tr>\n",
       "  </tbody>\n",
       "</table>\n",
       "</div>"
      ],
      "text/plain": [
       "   pclass                                             name     sex      age  \\\n",
       "0     1.0                    Allen, Miss. Elisabeth Walton  female  29.0000   \n",
       "1     1.0                   Allison, Master. Hudson Trevor    male   0.9167   \n",
       "2     1.0                     Allison, Miss. Helen Loraine  female   2.0000   \n",
       "3     1.0             Allison, Mr. Hudson Joshua Creighton    male  30.0000   \n",
       "4     1.0  Allison, Mrs. Hudson J C (Bessie Waldo Daniels)  female  25.0000   \n",
       "\n",
       "   sibsp  parch  ticket      fare    cabin embarked  boat   body  \\\n",
       "0    0.0    0.0   24160  211.3375       B5        S     2    NaN   \n",
       "1    1.0    2.0  113781  151.5500  C22 C26        S    11    NaN   \n",
       "2    1.0    2.0  113781  151.5500  C22 C26        S  None    NaN   \n",
       "3    1.0    2.0  113781  151.5500  C22 C26        S  None  135.0   \n",
       "4    1.0    2.0  113781  151.5500  C22 C26        S  None    NaN   \n",
       "\n",
       "                         home.dest survived  \n",
       "0                     St Louis, MO        1  \n",
       "1  Montreal, PQ / Chesterville, ON        1  \n",
       "2  Montreal, PQ / Chesterville, ON        0  \n",
       "3  Montreal, PQ / Chesterville, ON        0  \n",
       "4  Montreal, PQ / Chesterville, ON        0  "
      ]
     },
     "execution_count": 20,
     "metadata": {},
     "output_type": "execute_result"
    }
   ],
   "source": [
    "#Import dataset\n",
    "X_initial, y = fetch_openml(\"titanic\", version=1, as_frame=True, return_X_y=True)\n",
    "combine_dataset = pd.concat([X_initial, y], axis=1)\n",
    "combine_dataset.head()"
   ]
  },
  {
   "cell_type": "code",
   "execution_count": 21,
   "id": "28396295",
   "metadata": {},
   "outputs": [],
   "source": [
    "X_initial[\"family_size\"] = (X_initial['sibsp']+X_initial['parch'])+1"
   ]
  },
  {
   "cell_type": "code",
   "execution_count": 22,
   "id": "ec379693",
   "metadata": {},
   "outputs": [],
   "source": [
    "# features from the dataset\n",
    "features = ['family_size','pclass']\n",
    "X = X_initial[features].copy()"
   ]
  },
  {
   "cell_type": "code",
   "execution_count": 23,
   "id": "68600009",
   "metadata": {},
   "outputs": [],
   "source": [
    "numerical_features = ['family_size']\n",
    "\n",
    "# Applying SimpleImputer and StandardScaler into a pipelin\n",
    "numerical_transformer = Pipeline(steps=[\n",
    "    ('imputer', SimpleImputer()),\n",
    "    ('scaler', StandardScaler())])\n",
    "\n",
    "categorical_features = ['pclass']\n",
    "\n",
    "# Applying SimpleImputer and then OneHotEncoder into another pipeline\n",
    "categorical_transformer = Pipeline(steps=[\n",
    "    ('imputer', SimpleImputer()),\n",
    "    ('onehot', OneHotEncoder(handle_unknown='ignore'))])"
   ]
  },
  {
   "cell_type": "code",
   "execution_count": 24,
   "id": "1e8b6899",
   "metadata": {},
   "outputs": [],
   "source": [
    "data_transformer = ColumnTransformer(\n",
    "    transformers=[\n",
    "        ('numerical', numerical_transformer, numerical_features),\n",
    "        ('categorical', categorical_transformer, categorical_features)]) \n",
    "\n",
    "#pipelines with logistic regression:\n",
    "pipe_lr = Pipeline(steps=[('data_transformer', data_transformer),\n",
    "                      ('pipe_lr', LogisticRegression(max_iter=10000))])"
   ]
  },
  {
   "cell_type": "code",
   "execution_count": 25,
   "id": "79a617b4",
   "metadata": {},
   "outputs": [],
   "source": [
    "X_train, X_test, y_train, y_test = train_test_split(X, y, test_size=0.5,random_state=1)"
   ]
  },
  {
   "cell_type": "code",
   "execution_count": 26,
   "id": "19575026",
   "metadata": {},
   "outputs": [
    {
     "name": "stderr",
     "output_type": "stream",
     "text": [
      "C:\\Users\\e2u\\anaconda3\\envs\\tenmsorflow\\lib\\site-packages\\sklearn\\utils\\deprecation.py:87: FutureWarning: Function plot_roc_curve is deprecated; Function :func:`plot_roc_curve` is deprecated in 1.0 and will be removed in 1.2. Use one of the class methods: :meth:`sklearn.metric.RocCurveDisplay.from_predictions` or :meth:`sklearn.metric.RocCurveDisplay.from_estimator`.\n",
      "  warnings.warn(msg, category=FutureWarning)\n"
     ]
    },
    {
     "data": {
      "text/plain": [
       "<sklearn.metrics._plot.roc_curve.RocCurveDisplay at 0x1e8b1b37908>"
      ]
     },
     "execution_count": 26,
     "metadata": {},
     "output_type": "execute_result"
    },
    {
     "data": {
      "image/png": "[encoded data removed]",
      "text/plain": [
       "<Figure size 432x288 with 1 Axes>"
      ]
     },
     "metadata": {
      "needs_background": "light"
     },
     "output_type": "display_data"
    }
   ],
   "source": [
    "param_grid = {\n",
    "    'data_transformer__numerical__imputer__strategy': ['mean', 'median'],\n",
    "    'data_transformer__categorical__imputer__strategy': ['constant','most_frequent']\n",
    "}\n",
    "grid_lr = GridSearchCV(pipe_lr, param_grid=param_grid)\n",
    "grid_lr.fit(X_train, y_train);\n",
    "ax = plt.gca()\n",
    "plot_roc_curve(grid_lr, X_test, y_test, ax=ax, name='Family size and survival rate(LR)')"
   ]
  },
  {
   "cell_type": "markdown",
   "id": "0096d69e",
   "metadata": {},
   "source": [
    "## Keras"
   ]
  },
  {
   "cell_type": "code",
   "execution_count": 27,
   "id": "08f7bffd",
   "metadata": {},
   "outputs": [
    {
     "data": {
      "text/html": [
       "<div>\n",
       "<style scoped>\n",
       "    .dataframe tbody tr th:only-of-type {\n",
       "        vertical-align: middle;\n",
       "    }\n",
       "\n",
       "    .dataframe tbody tr th {\n",
       "        vertical-align: top;\n",
       "    }\n",
       "\n",
       "    .dataframe thead th {\n",
       "        text-align: right;\n",
       "    }\n",
       "</style>\n",
       "<table border=\"1\" class=\"dataframe\">\n",
       "  <thead>\n",
       "    <tr style=\"text-align: right;\">\n",
       "      <th></th>\n",
       "      <th>pclass</th>\n",
       "      <th>name</th>\n",
       "      <th>sex</th>\n",
       "      <th>age</th>\n",
       "      <th>sibsp</th>\n",
       "      <th>parch</th>\n",
       "      <th>ticket</th>\n",
       "      <th>fare</th>\n",
       "      <th>cabin</th>\n",
       "      <th>embarked</th>\n",
       "      <th>boat</th>\n",
       "      <th>body</th>\n",
       "      <th>home.dest</th>\n",
       "      <th>survived</th>\n",
       "    </tr>\n",
       "  </thead>\n",
       "  <tbody>\n",
       "    <tr>\n",
       "      <th>0</th>\n",
       "      <td>1.0</td>\n",
       "      <td>Allen, Miss. Elisabeth Walton</td>\n",
       "      <td>female</td>\n",
       "      <td>29.0000</td>\n",
       "      <td>0.0</td>\n",
       "      <td>0.0</td>\n",
       "      <td>24160</td>\n",
       "      <td>211.3375</td>\n",
       "      <td>B5</td>\n",
       "      <td>S</td>\n",
       "      <td>2</td>\n",
       "      <td>NaN</td>\n",
       "      <td>St Louis, MO</td>\n",
       "      <td>1</td>\n",
       "    </tr>\n",
       "    <tr>\n",
       "      <th>1</th>\n",
       "      <td>1.0</td>\n",
       "      <td>Allison, Master. Hudson Trevor</td>\n",
       "      <td>male</td>\n",
       "      <td>0.9167</td>\n",
       "      <td>1.0</td>\n",
       "      <td>2.0</td>\n",
       "      <td>113781</td>\n",
       "      <td>151.5500</td>\n",
       "      <td>C22 C26</td>\n",
       "      <td>S</td>\n",
       "      <td>11</td>\n",
       "      <td>NaN</td>\n",
       "      <td>Montreal, PQ / Chesterville, ON</td>\n",
       "      <td>1</td>\n",
       "    </tr>\n",
       "    <tr>\n",
       "      <th>2</th>\n",
       "      <td>1.0</td>\n",
       "      <td>Allison, Miss. Helen Loraine</td>\n",
       "      <td>female</td>\n",
       "      <td>2.0000</td>\n",
       "      <td>1.0</td>\n",
       "      <td>2.0</td>\n",
       "      <td>113781</td>\n",
       "      <td>151.5500</td>\n",
       "      <td>C22 C26</td>\n",
       "      <td>S</td>\n",
       "      <td>None</td>\n",
       "      <td>NaN</td>\n",
       "      <td>Montreal, PQ / Chesterville, ON</td>\n",
       "      <td>0</td>\n",
       "    </tr>\n",
       "    <tr>\n",
       "      <th>3</th>\n",
       "      <td>1.0</td>\n",
       "      <td>Allison, Mr. Hudson Joshua Creighton</td>\n",
       "      <td>male</td>\n",
       "      <td>30.0000</td>\n",
       "      <td>1.0</td>\n",
       "      <td>2.0</td>\n",
       "      <td>113781</td>\n",
       "      <td>151.5500</td>\n",
       "      <td>C22 C26</td>\n",
       "      <td>S</td>\n",
       "      <td>None</td>\n",
       "      <td>135.0</td>\n",
       "      <td>Montreal, PQ / Chesterville, ON</td>\n",
       "      <td>0</td>\n",
       "    </tr>\n",
       "    <tr>\n",
       "      <th>4</th>\n",
       "      <td>1.0</td>\n",
       "      <td>Allison, Mrs. Hudson J C (Bessie Waldo Daniels)</td>\n",
       "      <td>female</td>\n",
       "      <td>25.0000</td>\n",
       "      <td>1.0</td>\n",
       "      <td>2.0</td>\n",
       "      <td>113781</td>\n",
       "      <td>151.5500</td>\n",
       "      <td>C22 C26</td>\n",
       "      <td>S</td>\n",
       "      <td>None</td>\n",
       "      <td>NaN</td>\n",
       "      <td>Montreal, PQ / Chesterville, ON</td>\n",
       "      <td>0</td>\n",
       "    </tr>\n",
       "  </tbody>\n",
       "</table>\n",
       "</div>"
      ],
      "text/plain": [
       "   pclass                                             name     sex      age  \\\n",
       "0     1.0                    Allen, Miss. Elisabeth Walton  female  29.0000   \n",
       "1     1.0                   Allison, Master. Hudson Trevor    male   0.9167   \n",
       "2     1.0                     Allison, Miss. Helen Loraine  female   2.0000   \n",
       "3     1.0             Allison, Mr. Hudson Joshua Creighton    male  30.0000   \n",
       "4     1.0  Allison, Mrs. Hudson J C (Bessie Waldo Daniels)  female  25.0000   \n",
       "\n",
       "   sibsp  parch  ticket      fare    cabin embarked  boat   body  \\\n",
       "0    0.0    0.0   24160  211.3375       B5        S     2    NaN   \n",
       "1    1.0    2.0  113781  151.5500  C22 C26        S    11    NaN   \n",
       "2    1.0    2.0  113781  151.5500  C22 C26        S  None    NaN   \n",
       "3    1.0    2.0  113781  151.5500  C22 C26        S  None  135.0   \n",
       "4    1.0    2.0  113781  151.5500  C22 C26        S  None    NaN   \n",
       "\n",
       "                         home.dest survived  \n",
       "0                     St Louis, MO        1  \n",
       "1  Montreal, PQ / Chesterville, ON        1  \n",
       "2  Montreal, PQ / Chesterville, ON        0  \n",
       "3  Montreal, PQ / Chesterville, ON        0  \n",
       "4  Montreal, PQ / Chesterville, ON        0  "
      ]
     },
     "execution_count": 27,
     "metadata": {},
     "output_type": "execute_result"
    }
   ],
   "source": [
    "#Import dataset\n",
    "X_initial, y = fetch_openml(\"titanic\", version=1, as_frame=True, return_X_y=True)\n",
    "combine_dataset = pd.concat([X_initial, y], axis=1)\n",
    "combine_dataset.head()"
   ]
  },
  {
   "cell_type": "code",
   "execution_count": 28,
   "id": "69a87509",
   "metadata": {},
   "outputs": [
    {
     "data": {
      "text/html": [
       "<div>\n",
       "<style scoped>\n",
       "    .dataframe tbody tr th:only-of-type {\n",
       "        vertical-align: middle;\n",
       "    }\n",
       "\n",
       "    .dataframe tbody tr th {\n",
       "        vertical-align: top;\n",
       "    }\n",
       "\n",
       "    .dataframe thead th {\n",
       "        text-align: right;\n",
       "    }\n",
       "</style>\n",
       "<table border=\"1\" class=\"dataframe\">\n",
       "  <thead>\n",
       "    <tr style=\"text-align: right;\">\n",
       "      <th></th>\n",
       "      <th>age</th>\n",
       "      <th>fare</th>\n",
       "      <th>embarked</th>\n",
       "      <th>sex</th>\n",
       "      <th>pclass</th>\n",
       "    </tr>\n",
       "  </thead>\n",
       "  <tbody>\n",
       "    <tr>\n",
       "      <th>0</th>\n",
       "      <td>29.0000</td>\n",
       "      <td>211.3375</td>\n",
       "      <td>S</td>\n",
       "      <td>female</td>\n",
       "      <td>1.0</td>\n",
       "    </tr>\n",
       "    <tr>\n",
       "      <th>1</th>\n",
       "      <td>0.9167</td>\n",
       "      <td>151.5500</td>\n",
       "      <td>S</td>\n",
       "      <td>male</td>\n",
       "      <td>1.0</td>\n",
       "    </tr>\n",
       "    <tr>\n",
       "      <th>2</th>\n",
       "      <td>2.0000</td>\n",
       "      <td>151.5500</td>\n",
       "      <td>S</td>\n",
       "      <td>female</td>\n",
       "      <td>1.0</td>\n",
       "    </tr>\n",
       "    <tr>\n",
       "      <th>3</th>\n",
       "      <td>30.0000</td>\n",
       "      <td>151.5500</td>\n",
       "      <td>S</td>\n",
       "      <td>male</td>\n",
       "      <td>1.0</td>\n",
       "    </tr>\n",
       "    <tr>\n",
       "      <th>4</th>\n",
       "      <td>25.0000</td>\n",
       "      <td>151.5500</td>\n",
       "      <td>S</td>\n",
       "      <td>female</td>\n",
       "      <td>1.0</td>\n",
       "    </tr>\n",
       "    <tr>\n",
       "      <th>...</th>\n",
       "      <td>...</td>\n",
       "      <td>...</td>\n",
       "      <td>...</td>\n",
       "      <td>...</td>\n",
       "      <td>...</td>\n",
       "    </tr>\n",
       "    <tr>\n",
       "      <th>1304</th>\n",
       "      <td>14.5000</td>\n",
       "      <td>14.4542</td>\n",
       "      <td>C</td>\n",
       "      <td>female</td>\n",
       "      <td>3.0</td>\n",
       "    </tr>\n",
       "    <tr>\n",
       "      <th>1305</th>\n",
       "      <td>NaN</td>\n",
       "      <td>14.4542</td>\n",
       "      <td>C</td>\n",
       "      <td>female</td>\n",
       "      <td>3.0</td>\n",
       "    </tr>\n",
       "    <tr>\n",
       "      <th>1306</th>\n",
       "      <td>26.5000</td>\n",
       "      <td>7.2250</td>\n",
       "      <td>C</td>\n",
       "      <td>male</td>\n",
       "      <td>3.0</td>\n",
       "    </tr>\n",
       "    <tr>\n",
       "      <th>1307</th>\n",
       "      <td>27.0000</td>\n",
       "      <td>7.2250</td>\n",
       "      <td>C</td>\n",
       "      <td>male</td>\n",
       "      <td>3.0</td>\n",
       "    </tr>\n",
       "    <tr>\n",
       "      <th>1308</th>\n",
       "      <td>29.0000</td>\n",
       "      <td>7.8750</td>\n",
       "      <td>S</td>\n",
       "      <td>male</td>\n",
       "      <td>3.0</td>\n",
       "    </tr>\n",
       "  </tbody>\n",
       "</table>\n",
       "<p>1309 rows × 5 columns</p>\n",
       "</div>"
      ],
      "text/plain": [
       "          age      fare embarked     sex  pclass\n",
       "0     29.0000  211.3375        S  female     1.0\n",
       "1      0.9167  151.5500        S    male     1.0\n",
       "2      2.0000  151.5500        S  female     1.0\n",
       "3     30.0000  151.5500        S    male     1.0\n",
       "4     25.0000  151.5500        S  female     1.0\n",
       "...       ...       ...      ...     ...     ...\n",
       "1304  14.5000   14.4542        C  female     3.0\n",
       "1305      NaN   14.4542        C  female     3.0\n",
       "1306  26.5000    7.2250        C    male     3.0\n",
       "1307  27.0000    7.2250        C    male     3.0\n",
       "1308  29.0000    7.8750        S    male     3.0\n",
       "\n",
       "[1309 rows x 5 columns]"
      ]
     },
     "execution_count": 28,
     "metadata": {},
     "output_type": "execute_result"
    }
   ],
   "source": [
    "features = ['age', 'fare','embarked','sex','pclass']\n",
    "X = X_initial[features].copy()\n",
    "X"
   ]
  },
  {
   "cell_type": "code",
   "execution_count": 29,
   "id": "c75ba935",
   "metadata": {},
   "outputs": [
    {
     "data": {
      "text/plain": [
       "age         263\n",
       "fare          1\n",
       "embarked      2\n",
       "sex           0\n",
       "pclass        0\n",
       "dtype: int64"
      ]
     },
     "execution_count": 29,
     "metadata": {},
     "output_type": "execute_result"
    }
   ],
   "source": [
    "X.isnull().sum()"
   ]
  },
  {
   "cell_type": "code",
   "execution_count": 30,
   "id": "bb9b4ac8",
   "metadata": {},
   "outputs": [],
   "source": [
    "#replace Na's\n",
    "X[['age']] = X[['age']].fillna(value=X[['age']].mean())\n",
    "X[['fare']] = X[['fare']].fillna(value=X[['fare']].mean())\n",
    "X[['embarked']] = X[['embarked']].fillna(value=X['embarked'].value_counts().idxmax())\n",
    "\n",
    "#convert\n"
   ]
  },
  {
   "cell_type": "code",
   "execution_count": 31,
   "id": "b5539165",
   "metadata": {},
   "outputs": [
    {
     "data": {
      "text/plain": [
       "age         0\n",
       "fare        0\n",
       "embarked    0\n",
       "sex         0\n",
       "pclass      0\n",
       "dtype: int64"
      ]
     },
     "execution_count": 31,
     "metadata": {},
     "output_type": "execute_result"
    }
   ],
   "source": [
    "X.isnull().sum()"
   ]
  },
  {
   "cell_type": "code",
   "execution_count": 32,
   "id": "8b425f75",
   "metadata": {},
   "outputs": [],
   "source": [
    "#convert\n",
    "X['sex'] = X['sex'].map({'female': 1, 'male': 0}).astype('int')\n",
    "X['age'] = X['age'].astype('int')\n",
    "X['fare'] = X['fare'].astype('int')\n",
    "X['embarked'] = X['embarked'].map({'S': 0, 'C': 1, 'Q': 2}).astype('int')\n",
    "X['pclass']=X['pclass'].astype('int')\n"
   ]
  },
  {
   "cell_type": "code",
   "execution_count": 33,
   "id": "f80e3c11",
   "metadata": {},
   "outputs": [
    {
     "data": {
      "text/html": [
       "<div>\n",
       "<style scoped>\n",
       "    .dataframe tbody tr th:only-of-type {\n",
       "        vertical-align: middle;\n",
       "    }\n",
       "\n",
       "    .dataframe tbody tr th {\n",
       "        vertical-align: top;\n",
       "    }\n",
       "\n",
       "    .dataframe thead th {\n",
       "        text-align: right;\n",
       "    }\n",
       "</style>\n",
       "<table border=\"1\" class=\"dataframe\">\n",
       "  <thead>\n",
       "    <tr style=\"text-align: right;\">\n",
       "      <th></th>\n",
       "      <th>age</th>\n",
       "      <th>fare</th>\n",
       "      <th>embarked</th>\n",
       "      <th>sex</th>\n",
       "      <th>pclass</th>\n",
       "    </tr>\n",
       "  </thead>\n",
       "  <tbody>\n",
       "    <tr>\n",
       "      <th>0</th>\n",
       "      <td>-0.053121</td>\n",
       "      <td>3.442321</td>\n",
       "      <td>-0.603205</td>\n",
       "      <td>1.344482</td>\n",
       "      <td>-1.545507</td>\n",
       "    </tr>\n",
       "    <tr>\n",
       "      <th>1</th>\n",
       "      <td>-2.301214</td>\n",
       "      <td>2.282839</td>\n",
       "      <td>-0.603205</td>\n",
       "      <td>-0.743213</td>\n",
       "      <td>-1.545507</td>\n",
       "    </tr>\n",
       "    <tr>\n",
       "      <th>2</th>\n",
       "      <td>-2.146173</td>\n",
       "      <td>2.282839</td>\n",
       "      <td>-0.603205</td>\n",
       "      <td>1.344482</td>\n",
       "      <td>-1.545507</td>\n",
       "    </tr>\n",
       "    <tr>\n",
       "      <th>3</th>\n",
       "      <td>0.024399</td>\n",
       "      <td>2.282839</td>\n",
       "      <td>-0.603205</td>\n",
       "      <td>-0.743213</td>\n",
       "      <td>-1.545507</td>\n",
       "    </tr>\n",
       "    <tr>\n",
       "      <th>4</th>\n",
       "      <td>-0.363203</td>\n",
       "      <td>2.282839</td>\n",
       "      <td>-0.603205</td>\n",
       "      <td>1.344482</td>\n",
       "      <td>-1.545507</td>\n",
       "    </tr>\n",
       "  </tbody>\n",
       "</table>\n",
       "</div>"
      ],
      "text/plain": [
       "        age      fare  embarked       sex    pclass\n",
       "0 -0.053121  3.442321 -0.603205  1.344482 -1.545507\n",
       "1 -2.301214  2.282839 -0.603205 -0.743213 -1.545507\n",
       "2 -2.146173  2.282839 -0.603205  1.344482 -1.545507\n",
       "3  0.024399  2.282839 -0.603205 -0.743213 -1.545507\n",
       "4 -0.363203  2.282839 -0.603205  1.344482 -1.545507"
      ]
     },
     "execution_count": 33,
     "metadata": {},
     "output_type": "execute_result"
    }
   ],
   "source": [
    "X_norm = (X - X.mean()) / X.std()\n",
    "X_norm.head()"
   ]
  },
  {
   "cell_type": "code",
   "execution_count": 34,
   "id": "9ffc6aa4",
   "metadata": {},
   "outputs": [
    {
     "data": {
      "text/plain": [
       "5"
      ]
     },
     "execution_count": 34,
     "metadata": {},
     "output_type": "execute_result"
    }
   ],
   "source": [
    "n_cols = X_norm.shape[1] # number of predictors\n",
    "n_cols"
   ]
  },
  {
   "cell_type": "code",
   "execution_count": 35,
   "id": "2a13e77b",
   "metadata": {},
   "outputs": [],
   "source": [
    "import keras\n",
    "from keras.models import Sequential\n",
    "from keras.layers import Dense\n",
    "\n"
   ]
  },
  {
   "cell_type": "code",
   "execution_count": 36,
   "id": "dc8e143c",
   "metadata": {},
   "outputs": [],
   "source": [
    "# define regression model\n",
    "def regression_model():\n",
    "    # create model\n",
    "    model = Sequential()\n",
    "    model.add(Dense(50, activation='relu', input_shape=(n_cols,)))\n",
    "    model.add(Dense(50, activation='relu'))\n",
    "    model.add(Dense(50, activation='relu'))\n",
    "    model.add(Dense(1, activation='sigmoid'))\n",
    "    model.add(Dense(1))\n",
    "    \n",
    "    # compile model\n",
    "    model.compile(optimizer='adam', loss='mean_squared_error', metrics=['accuracy'])\n",
    "    return model"
   ]
  },
  {
   "cell_type": "code",
   "execution_count": 37,
   "id": "036deac4",
   "metadata": {},
   "outputs": [],
   "source": [
    "model = regression_model()"
   ]
  },
  {
   "cell_type": "code",
   "execution_count": 38,
   "id": "4b1e97d3",
   "metadata": {},
   "outputs": [],
   "source": [
    "X_1 = X_norm.astype('float32')\n",
    "Y_1 = y.astype('float32')"
   ]
  },
  {
   "cell_type": "code",
   "execution_count": 39,
   "id": "e0a3ba76",
   "metadata": {},
   "outputs": [
    {
     "data": {
      "text/html": [
       "<div>\n",
       "<style scoped>\n",
       "    .dataframe tbody tr th:only-of-type {\n",
       "        vertical-align: middle;\n",
       "    }\n",
       "\n",
       "    .dataframe tbody tr th {\n",
       "        vertical-align: top;\n",
       "    }\n",
       "\n",
       "    .dataframe thead th {\n",
       "        text-align: right;\n",
       "    }\n",
       "</style>\n",
       "<table border=\"1\" class=\"dataframe\">\n",
       "  <thead>\n",
       "    <tr style=\"text-align: right;\">\n",
       "      <th></th>\n",
       "      <th>age</th>\n",
       "      <th>fare</th>\n",
       "      <th>embarked</th>\n",
       "      <th>sex</th>\n",
       "      <th>pclass</th>\n",
       "    </tr>\n",
       "  </thead>\n",
       "  <tbody>\n",
       "    <tr>\n",
       "      <th>0</th>\n",
       "      <td>-0.053121</td>\n",
       "      <td>3.442321</td>\n",
       "      <td>-0.603205</td>\n",
       "      <td>1.344482</td>\n",
       "      <td>-1.545507</td>\n",
       "    </tr>\n",
       "    <tr>\n",
       "      <th>1</th>\n",
       "      <td>-2.301214</td>\n",
       "      <td>2.282839</td>\n",
       "      <td>-0.603205</td>\n",
       "      <td>-0.743213</td>\n",
       "      <td>-1.545507</td>\n",
       "    </tr>\n",
       "    <tr>\n",
       "      <th>2</th>\n",
       "      <td>-2.146173</td>\n",
       "      <td>2.282839</td>\n",
       "      <td>-0.603205</td>\n",
       "      <td>1.344482</td>\n",
       "      <td>-1.545507</td>\n",
       "    </tr>\n",
       "    <tr>\n",
       "      <th>3</th>\n",
       "      <td>0.024399</td>\n",
       "      <td>2.282839</td>\n",
       "      <td>-0.603205</td>\n",
       "      <td>-0.743213</td>\n",
       "      <td>-1.545507</td>\n",
       "    </tr>\n",
       "    <tr>\n",
       "      <th>4</th>\n",
       "      <td>-0.363203</td>\n",
       "      <td>2.282839</td>\n",
       "      <td>-0.603205</td>\n",
       "      <td>1.344482</td>\n",
       "      <td>-1.545507</td>\n",
       "    </tr>\n",
       "    <tr>\n",
       "      <th>...</th>\n",
       "      <td>...</td>\n",
       "      <td>...</td>\n",
       "      <td>...</td>\n",
       "      <td>...</td>\n",
       "      <td>...</td>\n",
       "    </tr>\n",
       "    <tr>\n",
       "      <th>1304</th>\n",
       "      <td>-1.215928</td>\n",
       "      <td>-0.364645</td>\n",
       "      <td>0.927019</td>\n",
       "      <td>1.344482</td>\n",
       "      <td>0.841595</td>\n",
       "    </tr>\n",
       "    <tr>\n",
       "      <th>1305</th>\n",
       "      <td>-0.053121</td>\n",
       "      <td>-0.364645</td>\n",
       "      <td>0.927019</td>\n",
       "      <td>1.344482</td>\n",
       "      <td>0.841595</td>\n",
       "    </tr>\n",
       "    <tr>\n",
       "      <th>1306</th>\n",
       "      <td>-0.285683</td>\n",
       "      <td>-0.499918</td>\n",
       "      <td>0.927019</td>\n",
       "      <td>-0.743213</td>\n",
       "      <td>0.841595</td>\n",
       "    </tr>\n",
       "    <tr>\n",
       "      <th>1307</th>\n",
       "      <td>-0.208162</td>\n",
       "      <td>-0.499918</td>\n",
       "      <td>0.927019</td>\n",
       "      <td>-0.743213</td>\n",
       "      <td>0.841595</td>\n",
       "    </tr>\n",
       "    <tr>\n",
       "      <th>1308</th>\n",
       "      <td>-0.053121</td>\n",
       "      <td>-0.499918</td>\n",
       "      <td>-0.603205</td>\n",
       "      <td>-0.743213</td>\n",
       "      <td>0.841595</td>\n",
       "    </tr>\n",
       "  </tbody>\n",
       "</table>\n",
       "<p>1309 rows × 5 columns</p>\n",
       "</div>"
      ],
      "text/plain": [
       "           age      fare  embarked       sex    pclass\n",
       "0    -0.053121  3.442321 -0.603205  1.344482 -1.545507\n",
       "1    -2.301214  2.282839 -0.603205 -0.743213 -1.545507\n",
       "2    -2.146173  2.282839 -0.603205  1.344482 -1.545507\n",
       "3     0.024399  2.282839 -0.603205 -0.743213 -1.545507\n",
       "4    -0.363203  2.282839 -0.603205  1.344482 -1.545507\n",
       "...        ...       ...       ...       ...       ...\n",
       "1304 -1.215928 -0.364645  0.927019  1.344482  0.841595\n",
       "1305 -0.053121 -0.364645  0.927019  1.344482  0.841595\n",
       "1306 -0.285683 -0.499918  0.927019 -0.743213  0.841595\n",
       "1307 -0.208162 -0.499918  0.927019 -0.743213  0.841595\n",
       "1308 -0.053121 -0.499918 -0.603205 -0.743213  0.841595\n",
       "\n",
       "[1309 rows x 5 columns]"
      ]
     },
     "execution_count": 39,
     "metadata": {},
     "output_type": "execute_result"
    }
   ],
   "source": [
    "X_1"
   ]
  },
  {
   "cell_type": "code",
   "execution_count": 40,
   "id": "58f1e06c",
   "metadata": {},
   "outputs": [],
   "source": [
    "X_train, X_test, y_train, y_test = train_test_split(X_1, Y_1, test_size=0.5,random_state=1)"
   ]
  },
  {
   "cell_type": "code",
   "execution_count": 41,
   "id": "1c9f44d2",
   "metadata": {},
   "outputs": [
    {
     "name": "stdout",
     "output_type": "stream",
     "text": [
      "Epoch 1/100\n",
      "21/21 - 0s - loss: 0.3669 - accuracy: 0.3471 - val_loss: 0.2628 - val_accuracy: 0.4305 - 318ms/epoch - 15ms/step\n",
      "Epoch 2/100\n",
      "21/21 - 0s - loss: 0.2224 - accuracy: 0.6667 - val_loss: 0.1936 - val_accuracy: 0.7237 - 29ms/epoch - 1ms/step\n",
      "Epoch 3/100\n",
      "21/21 - 0s - loss: 0.1695 - accuracy: 0.7829 - val_loss: 0.1553 - val_accuracy: 0.7664 - 31ms/epoch - 1ms/step\n",
      "Epoch 4/100\n",
      "21/21 - 0s - loss: 0.1510 - accuracy: 0.7829 - val_loss: 0.1499 - val_accuracy: 0.7756 - 30ms/epoch - 1ms/step\n",
      "Epoch 5/100\n",
      "21/21 - 0s - loss: 0.1461 - accuracy: 0.7905 - val_loss: 0.1473 - val_accuracy: 0.7847 - 30ms/epoch - 1ms/step\n",
      "Epoch 6/100\n",
      "21/21 - 0s - loss: 0.1422 - accuracy: 0.8012 - val_loss: 0.1479 - val_accuracy: 0.8000 - 29ms/epoch - 1ms/step\n",
      "Epoch 7/100\n",
      "21/21 - 0s - loss: 0.1392 - accuracy: 0.8150 - val_loss: 0.1460 - val_accuracy: 0.7969 - 30ms/epoch - 1ms/step\n",
      "Epoch 8/100\n",
      "21/21 - 0s - loss: 0.1378 - accuracy: 0.8211 - val_loss: 0.1464 - val_accuracy: 0.8076 - 30ms/epoch - 1ms/step\n",
      "Epoch 9/100\n",
      "21/21 - 0s - loss: 0.1372 - accuracy: 0.8180 - val_loss: 0.1473 - val_accuracy: 0.8031 - 30ms/epoch - 1ms/step\n",
      "Epoch 10/100\n",
      "21/21 - 0s - loss: 0.1361 - accuracy: 0.8089 - val_loss: 0.1455 - val_accuracy: 0.8031 - 30ms/epoch - 1ms/step\n",
      "Epoch 11/100\n",
      "21/21 - 0s - loss: 0.1350 - accuracy: 0.8180 - val_loss: 0.1480 - val_accuracy: 0.7985 - 30ms/epoch - 1ms/step\n",
      "Epoch 12/100\n",
      "21/21 - 0s - loss: 0.1349 - accuracy: 0.8119 - val_loss: 0.1462 - val_accuracy: 0.8046 - 30ms/epoch - 1ms/step\n",
      "Epoch 13/100\n",
      "21/21 - 0s - loss: 0.1331 - accuracy: 0.8242 - val_loss: 0.1474 - val_accuracy: 0.8031 - 30ms/epoch - 1ms/step\n",
      "Epoch 14/100\n",
      "21/21 - 0s - loss: 0.1331 - accuracy: 0.8180 - val_loss: 0.1483 - val_accuracy: 0.7924 - 30ms/epoch - 1ms/step\n",
      "Epoch 15/100\n",
      "21/21 - 0s - loss: 0.1341 - accuracy: 0.8135 - val_loss: 0.1459 - val_accuracy: 0.8031 - 30ms/epoch - 1ms/step\n",
      "Epoch 16/100\n",
      "21/21 - 0s - loss: 0.1325 - accuracy: 0.8089 - val_loss: 0.1459 - val_accuracy: 0.8061 - 30ms/epoch - 1ms/step\n",
      "Epoch 17/100\n",
      "21/21 - 0s - loss: 0.1306 - accuracy: 0.8211 - val_loss: 0.1456 - val_accuracy: 0.8046 - 30ms/epoch - 1ms/step\n",
      "Epoch 18/100\n",
      "21/21 - 0s - loss: 0.1308 - accuracy: 0.8211 - val_loss: 0.1457 - val_accuracy: 0.8031 - 30ms/epoch - 1ms/step\n",
      "Epoch 19/100\n",
      "21/21 - 0s - loss: 0.1305 - accuracy: 0.8165 - val_loss: 0.1470 - val_accuracy: 0.8031 - 30ms/epoch - 1ms/step\n",
      "Epoch 20/100\n",
      "21/21 - 0s - loss: 0.1294 - accuracy: 0.8257 - val_loss: 0.1456 - val_accuracy: 0.8015 - 30ms/epoch - 1ms/step\n",
      "Epoch 21/100\n",
      "21/21 - 0s - loss: 0.1295 - accuracy: 0.8196 - val_loss: 0.1459 - val_accuracy: 0.7985 - 30ms/epoch - 1ms/step\n",
      "Epoch 22/100\n",
      "21/21 - 0s - loss: 0.1298 - accuracy: 0.8257 - val_loss: 0.1473 - val_accuracy: 0.8015 - 30ms/epoch - 1ms/step\n",
      "Epoch 23/100\n",
      "21/21 - 0s - loss: 0.1286 - accuracy: 0.8180 - val_loss: 0.1450 - val_accuracy: 0.8046 - 30ms/epoch - 1ms/step\n",
      "Epoch 24/100\n",
      "21/21 - 0s - loss: 0.1282 - accuracy: 0.8242 - val_loss: 0.1462 - val_accuracy: 0.8046 - 30ms/epoch - 1ms/step\n",
      "Epoch 25/100\n",
      "21/21 - 0s - loss: 0.1279 - accuracy: 0.8211 - val_loss: 0.1448 - val_accuracy: 0.7969 - 29ms/epoch - 1ms/step\n",
      "Epoch 26/100\n",
      "21/21 - 0s - loss: 0.1282 - accuracy: 0.8196 - val_loss: 0.1470 - val_accuracy: 0.8031 - 30ms/epoch - 1ms/step\n",
      "Epoch 27/100\n",
      "21/21 - 0s - loss: 0.1294 - accuracy: 0.8180 - val_loss: 0.1449 - val_accuracy: 0.8015 - 30ms/epoch - 1ms/step\n",
      "Epoch 28/100\n",
      "21/21 - 0s - loss: 0.1275 - accuracy: 0.8257 - val_loss: 0.1448 - val_accuracy: 0.8015 - 30ms/epoch - 1ms/step\n",
      "Epoch 29/100\n",
      "21/21 - 0s - loss: 0.1275 - accuracy: 0.8196 - val_loss: 0.1456 - val_accuracy: 0.8031 - 30ms/epoch - 1ms/step\n",
      "Epoch 30/100\n",
      "21/21 - 0s - loss: 0.1264 - accuracy: 0.8257 - val_loss: 0.1452 - val_accuracy: 0.7985 - 30ms/epoch - 1ms/step\n",
      "Epoch 31/100\n",
      "21/21 - 0s - loss: 0.1266 - accuracy: 0.8242 - val_loss: 0.1477 - val_accuracy: 0.7924 - 30ms/epoch - 1ms/step\n",
      "Epoch 32/100\n",
      "21/21 - 0s - loss: 0.1298 - accuracy: 0.8135 - val_loss: 0.1453 - val_accuracy: 0.7985 - 31ms/epoch - 1ms/step\n",
      "Epoch 33/100\n",
      "21/21 - 0s - loss: 0.1271 - accuracy: 0.8226 - val_loss: 0.1449 - val_accuracy: 0.7969 - 30ms/epoch - 1ms/step\n",
      "Epoch 34/100\n",
      "21/21 - 0s - loss: 0.1267 - accuracy: 0.8257 - val_loss: 0.1459 - val_accuracy: 0.8061 - 30ms/epoch - 1ms/step\n",
      "Epoch 35/100\n",
      "21/21 - 0s - loss: 0.1259 - accuracy: 0.8242 - val_loss: 0.1463 - val_accuracy: 0.8000 - 30ms/epoch - 1ms/step\n",
      "Epoch 36/100\n",
      "21/21 - 0s - loss: 0.1266 - accuracy: 0.8180 - val_loss: 0.1455 - val_accuracy: 0.8031 - 31ms/epoch - 1ms/step\n",
      "Epoch 37/100\n",
      "21/21 - 0s - loss: 0.1252 - accuracy: 0.8272 - val_loss: 0.1438 - val_accuracy: 0.7969 - 30ms/epoch - 1ms/step\n",
      "Epoch 38/100\n",
      "21/21 - 0s - loss: 0.1249 - accuracy: 0.8242 - val_loss: 0.1456 - val_accuracy: 0.8015 - 28ms/epoch - 1ms/step\n",
      "Epoch 39/100\n",
      "21/21 - 0s - loss: 0.1257 - accuracy: 0.8242 - val_loss: 0.1501 - val_accuracy: 0.7893 - 30ms/epoch - 1ms/step\n",
      "Epoch 40/100\n",
      "21/21 - 0s - loss: 0.1264 - accuracy: 0.8211 - val_loss: 0.1449 - val_accuracy: 0.7985 - 30ms/epoch - 1ms/step\n",
      "Epoch 41/100\n",
      "21/21 - 0s - loss: 0.1252 - accuracy: 0.8226 - val_loss: 0.1446 - val_accuracy: 0.7985 - 31ms/epoch - 1ms/step\n",
      "Epoch 42/100\n",
      "21/21 - 0s - loss: 0.1245 - accuracy: 0.8287 - val_loss: 0.1465 - val_accuracy: 0.7985 - 30ms/epoch - 1ms/step\n",
      "Epoch 43/100\n",
      "21/21 - 0s - loss: 0.1231 - accuracy: 0.8272 - val_loss: 0.1441 - val_accuracy: 0.8000 - 28ms/epoch - 1ms/step\n",
      "Epoch 44/100\n",
      "21/21 - 0s - loss: 0.1235 - accuracy: 0.8257 - val_loss: 0.1443 - val_accuracy: 0.7985 - 31ms/epoch - 1ms/step\n",
      "Epoch 45/100\n",
      "21/21 - 0s - loss: 0.1238 - accuracy: 0.8226 - val_loss: 0.1474 - val_accuracy: 0.8031 - 30ms/epoch - 1ms/step\n",
      "Epoch 46/100\n",
      "21/21 - 0s - loss: 0.1234 - accuracy: 0.8287 - val_loss: 0.1440 - val_accuracy: 0.8015 - 29ms/epoch - 1ms/step\n",
      "Epoch 47/100\n",
      "21/21 - 0s - loss: 0.1232 - accuracy: 0.8272 - val_loss: 0.1454 - val_accuracy: 0.7954 - 29ms/epoch - 1ms/step\n",
      "Epoch 48/100\n",
      "21/21 - 0s - loss: 0.1236 - accuracy: 0.8257 - val_loss: 0.1480 - val_accuracy: 0.7969 - 30ms/epoch - 1ms/step\n",
      "Epoch 49/100\n",
      "21/21 - 0s - loss: 0.1260 - accuracy: 0.8196 - val_loss: 0.1449 - val_accuracy: 0.7985 - 29ms/epoch - 1ms/step\n",
      "Epoch 50/100\n",
      "21/21 - 0s - loss: 0.1226 - accuracy: 0.8272 - val_loss: 0.1451 - val_accuracy: 0.8000 - 29ms/epoch - 1ms/step\n",
      "Epoch 51/100\n",
      "21/21 - 0s - loss: 0.1213 - accuracy: 0.8272 - val_loss: 0.1456 - val_accuracy: 0.7969 - 31ms/epoch - 1ms/step\n",
      "Epoch 52/100\n",
      "21/21 - 0s - loss: 0.1228 - accuracy: 0.8242 - val_loss: 0.1445 - val_accuracy: 0.7985 - 31ms/epoch - 1ms/step\n",
      "Epoch 53/100\n",
      "21/21 - 0s - loss: 0.1240 - accuracy: 0.8272 - val_loss: 0.1472 - val_accuracy: 0.7985 - 32ms/epoch - 2ms/step\n",
      "Epoch 54/100\n",
      "21/21 - 0s - loss: 0.1222 - accuracy: 0.8287 - val_loss: 0.1446 - val_accuracy: 0.8000 - 30ms/epoch - 1ms/step\n",
      "Epoch 55/100\n",
      "21/21 - 0s - loss: 0.1227 - accuracy: 0.8196 - val_loss: 0.1449 - val_accuracy: 0.7985 - 29ms/epoch - 1ms/step\n",
      "Epoch 56/100\n",
      "21/21 - 0s - loss: 0.1211 - accuracy: 0.8287 - val_loss: 0.1456 - val_accuracy: 0.8000 - 30ms/epoch - 1ms/step\n",
      "Epoch 57/100\n",
      "21/21 - 0s - loss: 0.1204 - accuracy: 0.8287 - val_loss: 0.1452 - val_accuracy: 0.7969 - 30ms/epoch - 1ms/step\n",
      "Epoch 58/100\n",
      "21/21 - 0s - loss: 0.1210 - accuracy: 0.8226 - val_loss: 0.1443 - val_accuracy: 0.8015 - 30ms/epoch - 1ms/step\n",
      "Epoch 59/100\n",
      "21/21 - 0s - loss: 0.1207 - accuracy: 0.8287 - val_loss: 0.1474 - val_accuracy: 0.8031 - 29ms/epoch - 1ms/step\n",
      "Epoch 60/100\n",
      "21/21 - 0s - loss: 0.1206 - accuracy: 0.8242 - val_loss: 0.1458 - val_accuracy: 0.7969 - 29ms/epoch - 1ms/step\n",
      "Epoch 61/100\n",
      "21/21 - 0s - loss: 0.1207 - accuracy: 0.8287 - val_loss: 0.1459 - val_accuracy: 0.8031 - 31ms/epoch - 1ms/step\n",
      "Epoch 62/100\n",
      "21/21 - 0s - loss: 0.1228 - accuracy: 0.8242 - val_loss: 0.1449 - val_accuracy: 0.7985 - 29ms/epoch - 1ms/step\n",
      "Epoch 63/100\n",
      "21/21 - 0s - loss: 0.1200 - accuracy: 0.8287 - val_loss: 0.1477 - val_accuracy: 0.8015 - 31ms/epoch - 1ms/step\n",
      "Epoch 64/100\n",
      "21/21 - 0s - loss: 0.1211 - accuracy: 0.8257 - val_loss: 0.1489 - val_accuracy: 0.7985 - 30ms/epoch - 1ms/step\n",
      "Epoch 65/100\n",
      "21/21 - 0s - loss: 0.1202 - accuracy: 0.8257 - val_loss: 0.1451 - val_accuracy: 0.8000 - 30ms/epoch - 1ms/step\n",
      "Epoch 66/100\n",
      "21/21 - 0s - loss: 0.1202 - accuracy: 0.8257 - val_loss: 0.1454 - val_accuracy: 0.8015 - 29ms/epoch - 1ms/step\n",
      "Epoch 67/100\n",
      "21/21 - 0s - loss: 0.1201 - accuracy: 0.8303 - val_loss: 0.1461 - val_accuracy: 0.8031 - 30ms/epoch - 1ms/step\n"
     ]
    },
    {
     "name": "stdout",
     "output_type": "stream",
     "text": [
      "Epoch 68/100\n",
      "21/21 - 0s - loss: 0.1196 - accuracy: 0.8272 - val_loss: 0.1458 - val_accuracy: 0.8015 - 30ms/epoch - 1ms/step\n",
      "Epoch 69/100\n",
      "21/21 - 0s - loss: 0.1195 - accuracy: 0.8287 - val_loss: 0.1455 - val_accuracy: 0.8092 - 30ms/epoch - 1ms/step\n",
      "Epoch 70/100\n",
      "21/21 - 0s - loss: 0.1183 - accuracy: 0.8318 - val_loss: 0.1459 - val_accuracy: 0.7985 - 30ms/epoch - 1ms/step\n",
      "Epoch 71/100\n",
      "21/21 - 0s - loss: 0.1197 - accuracy: 0.8242 - val_loss: 0.1499 - val_accuracy: 0.7939 - 30ms/epoch - 1ms/step\n",
      "Epoch 72/100\n",
      "21/21 - 0s - loss: 0.1195 - accuracy: 0.8226 - val_loss: 0.1456 - val_accuracy: 0.7985 - 30ms/epoch - 1ms/step\n",
      "Epoch 73/100\n",
      "21/21 - 0s - loss: 0.1190 - accuracy: 0.8226 - val_loss: 0.1465 - val_accuracy: 0.8046 - 30ms/epoch - 1ms/step\n",
      "Epoch 74/100\n",
      "21/21 - 0s - loss: 0.1198 - accuracy: 0.8287 - val_loss: 0.1477 - val_accuracy: 0.8092 - 30ms/epoch - 1ms/step\n",
      "Epoch 75/100\n",
      "21/21 - 0s - loss: 0.1193 - accuracy: 0.8318 - val_loss: 0.1478 - val_accuracy: 0.8000 - 29ms/epoch - 1ms/step\n",
      "Epoch 76/100\n",
      "21/21 - 0s - loss: 0.1188 - accuracy: 0.8257 - val_loss: 0.1452 - val_accuracy: 0.8092 - 30ms/epoch - 1ms/step\n",
      "Epoch 77/100\n",
      "21/21 - 0s - loss: 0.1182 - accuracy: 0.8272 - val_loss: 0.1475 - val_accuracy: 0.8015 - 29ms/epoch - 1ms/step\n",
      "Epoch 78/100\n",
      "21/21 - 0s - loss: 0.1201 - accuracy: 0.8272 - val_loss: 0.1458 - val_accuracy: 0.8061 - 30ms/epoch - 1ms/step\n",
      "Epoch 79/100\n",
      "21/21 - 0s - loss: 0.1178 - accuracy: 0.8333 - val_loss: 0.1479 - val_accuracy: 0.8031 - 30ms/epoch - 1ms/step\n",
      "Epoch 80/100\n",
      "21/21 - 0s - loss: 0.1193 - accuracy: 0.8272 - val_loss: 0.1483 - val_accuracy: 0.7985 - 29ms/epoch - 1ms/step\n",
      "Epoch 81/100\n",
      "21/21 - 0s - loss: 0.1194 - accuracy: 0.8242 - val_loss: 0.1476 - val_accuracy: 0.8046 - 30ms/epoch - 1ms/step\n",
      "Epoch 82/100\n",
      "21/21 - 0s - loss: 0.1177 - accuracy: 0.8379 - val_loss: 0.1457 - val_accuracy: 0.8122 - 30ms/epoch - 1ms/step\n",
      "Epoch 83/100\n",
      "21/21 - 0s - loss: 0.1183 - accuracy: 0.8211 - val_loss: 0.1452 - val_accuracy: 0.8031 - 30ms/epoch - 1ms/step\n",
      "Epoch 84/100\n",
      "21/21 - 0s - loss: 0.1167 - accuracy: 0.8333 - val_loss: 0.1467 - val_accuracy: 0.8076 - 30ms/epoch - 1ms/step\n",
      "Epoch 85/100\n",
      "21/21 - 0s - loss: 0.1170 - accuracy: 0.8303 - val_loss: 0.1467 - val_accuracy: 0.8015 - 31ms/epoch - 1ms/step\n",
      "Epoch 86/100\n",
      "21/21 - 0s - loss: 0.1173 - accuracy: 0.8318 - val_loss: 0.1483 - val_accuracy: 0.8015 - 30ms/epoch - 1ms/step\n",
      "Epoch 87/100\n",
      "21/21 - 0s - loss: 0.1167 - accuracy: 0.8349 - val_loss: 0.1472 - val_accuracy: 0.8153 - 30ms/epoch - 1ms/step\n",
      "Epoch 88/100\n",
      "21/21 - 0s - loss: 0.1166 - accuracy: 0.8410 - val_loss: 0.1479 - val_accuracy: 0.8061 - 30ms/epoch - 1ms/step\n",
      "Epoch 89/100\n",
      "21/21 - 0s - loss: 0.1154 - accuracy: 0.8394 - val_loss: 0.1454 - val_accuracy: 0.8137 - 30ms/epoch - 1ms/step\n",
      "Epoch 90/100\n",
      "21/21 - 0s - loss: 0.1169 - accuracy: 0.8349 - val_loss: 0.1456 - val_accuracy: 0.8031 - 30ms/epoch - 1ms/step\n",
      "Epoch 91/100\n",
      "21/21 - 0s - loss: 0.1160 - accuracy: 0.8410 - val_loss: 0.1485 - val_accuracy: 0.8076 - 30ms/epoch - 1ms/step\n",
      "Epoch 92/100\n",
      "21/21 - 0s - loss: 0.1164 - accuracy: 0.8333 - val_loss: 0.1472 - val_accuracy: 0.8076 - 30ms/epoch - 1ms/step\n",
      "Epoch 93/100\n",
      "21/21 - 0s - loss: 0.1165 - accuracy: 0.8318 - val_loss: 0.1455 - val_accuracy: 0.8046 - 30ms/epoch - 1ms/step\n",
      "Epoch 94/100\n",
      "21/21 - 0s - loss: 0.1169 - accuracy: 0.8318 - val_loss: 0.1508 - val_accuracy: 0.7969 - 30ms/epoch - 1ms/step\n",
      "Epoch 95/100\n",
      "21/21 - 0s - loss: 0.1177 - accuracy: 0.8349 - val_loss: 0.1499 - val_accuracy: 0.7893 - 30ms/epoch - 1ms/step\n",
      "Epoch 96/100\n",
      "21/21 - 0s - loss: 0.1170 - accuracy: 0.8349 - val_loss: 0.1489 - val_accuracy: 0.8015 - 31ms/epoch - 1ms/step\n",
      "Epoch 97/100\n",
      "21/21 - 0s - loss: 0.1165 - accuracy: 0.8379 - val_loss: 0.1475 - val_accuracy: 0.8122 - 31ms/epoch - 1ms/step\n",
      "Epoch 98/100\n",
      "21/21 - 0s - loss: 0.1150 - accuracy: 0.8303 - val_loss: 0.1471 - val_accuracy: 0.8076 - 29ms/epoch - 1ms/step\n",
      "Epoch 99/100\n",
      "21/21 - 0s - loss: 0.1176 - accuracy: 0.8379 - val_loss: 0.1482 - val_accuracy: 0.8015 - 30ms/epoch - 1ms/step\n",
      "Epoch 100/100\n",
      "21/21 - 0s - loss: 0.1171 - accuracy: 0.8318 - val_loss: 0.1466 - val_accuracy: 0.8046 - 30ms/epoch - 1ms/step\n"
     ]
    },
    {
     "data": {
      "text/plain": [
       "<keras.callbacks.History at 0x1e8c118c4c8>"
      ]
     },
     "execution_count": 41,
     "metadata": {},
     "output_type": "execute_result"
    }
   ],
   "source": [
    "model.fit(X_train, y_train, validation_data=(X_test, y_test), epochs=100, verbose=2)\n"
   ]
  },
  {
   "cell_type": "code",
   "execution_count": 42,
   "id": "e7a6406d",
   "metadata": {},
   "outputs": [
    {
     "name": "stdout",
     "output_type": "stream",
     "text": [
      "mean_squared_error: [0.1466463804244995, 0.8045801520347595]\n"
     ]
    }
   ],
   "source": [
    "scores = model.evaluate(X_test, y_test, verbose=0)\n",
    "print('mean_squared_error: {}'.format(scores))"
   ]
  },
  {
   "cell_type": "code",
   "execution_count": 43,
   "id": "b6a8d309",
   "metadata": {},
   "outputs": [
    {
     "name": "stdout",
     "output_type": "stream",
     "text": [
      "Accuracy: 0.8045801520347595% \n",
      " Error: 0.19541984796524048\n"
     ]
    }
   ],
   "source": [
    "print('Accuracy: {}% \\n Error: {}'.format(scores[1], 1 - scores[1])) "
   ]
  }
 ],
 "metadata": {
  "kernelspec": {
   "display_name": "Python 3 (ipykernel)",
   "language": "python",
   "name": "python3"
  },
  "language_info": {
   "codemirror_mode": {
    "name": "ipython",
    "version": 3
   },
   "file_extension": ".py",
   "mimetype": "text/x-python",
   "name": "python",
   "nbconvert_exporter": "python",
   "pygments_lexer": "ipython3",
   "version": "3.7.11"
  }
 },
 "nbformat": 4,
 "nbformat_minor": 5
}
